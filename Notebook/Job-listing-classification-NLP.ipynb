{
 "cells": [
  {
   "cell_type": "markdown",
   "id": "7652025f-6326-4073-ae6c-38d935aeb0f2",
   "metadata": {},
   "source": [
    " # NLP for job listing classification"
   ]
  },
  {
   "cell_type": "markdown",
   "id": "3eb51d1c-535f-41d0-b5e6-b3dc850d6ead",
   "metadata": {},
   "source": [
    "### Using NLP for job listing classification in the city of New York"
   ]
  },
  {
   "cell_type": "code",
   "execution_count": 1,
   "id": "7ef4b8b9-a5d6-4a17-bec0-9c366b159189",
   "metadata": {},
   "outputs": [
    {
     "name": "stdout",
     "output_type": "stream",
     "text": [
      "TF version: 2.10.0\n"
     ]
    }
   ],
   "source": [
    "# For exploratory data analysis and plotting libraries\n",
    "import numpy as np\n",
    "import pandas as pd\n",
    "import matplotlib.pyplot as plt\n",
    "import seaborn as sns\n",
    "\n",
    "%matplotlib inline\n",
    "\n",
    "# For text preprocessing\n",
    "import string\n",
    "import re\n",
    "import nltk\n",
    "from nltk.corpus import stopwords\n",
    "from nltk.tokenize import word_tokenize\n",
    "import spacy\n",
    "from spacy.lang.en import English\n",
    "from spacy.lang.es import Spanish\n",
    "\n",
    "# For BERT pre-trained Language Model\n",
    "from transformers import BertModel\n",
    "from transformers import  BertTokenizer, BertForSequenceClassification\n",
    "\n",
    "import tensorflow as tf\n",
    "print (\"TF version:\", tf.__version__)\n"
   ]
  },
  {
   "cell_type": "markdown",
   "id": "d72d0fa2-e91f-4c7f-8795-e46dc8ba4218",
   "metadata": {},
   "source": [
    "# Loading the data"
   ]
  },
  {
   "cell_type": "code",
   "execution_count": 2,
   "id": "28b1c3b9-a104-4b06-b3ef-8d50d5d6d233",
   "metadata": {},
   "outputs": [],
   "source": [
    "# Loading the data\n",
    "df = pd.read_csv(\"../Data/NYC_Jobs.csv\", low_memory=False)"
   ]
  },
  {
   "cell_type": "markdown",
   "id": "35ff8c5a-3eaa-4efe-9572-cb6e283a598e",
   "metadata": {},
   "source": [
    "# Data exploration"
   ]
  },
  {
   "cell_type": "code",
   "execution_count": 3,
   "id": "cac7d8fb-b4fd-4f36-8645-aa19132d897a",
   "metadata": {},
   "outputs": [
    {
     "name": "stdout",
     "output_type": "stream",
     "text": [
      "<class 'pandas.core.frame.DataFrame'>\n",
      "RangeIndex: 6362 entries, 0 to 6361\n",
      "Data columns (total 30 columns):\n",
      " #   Column                         Non-Null Count  Dtype  \n",
      "---  ------                         --------------  -----  \n",
      " 0   Job ID                         6362 non-null   int64  \n",
      " 1   Agency                         6362 non-null   object \n",
      " 2   Posting Type                   6362 non-null   object \n",
      " 3   # Of Positions                 6362 non-null   int64  \n",
      " 4   Business Title                 6362 non-null   object \n",
      " 5   Civil Service Title            6362 non-null   object \n",
      " 6   Title Classification           6362 non-null   object \n",
      " 7   Title Code No                  6362 non-null   object \n",
      " 8   Level                          6362 non-null   object \n",
      " 9   Job Category                   6362 non-null   object \n",
      " 10  Full-Time/Part-Time indicator  6118 non-null   object \n",
      " 11  Career Level                   6362 non-null   object \n",
      " 12  Salary Range From              6362 non-null   float64\n",
      " 13  Salary Range To                6362 non-null   float64\n",
      " 14  Salary Frequency               6362 non-null   object \n",
      " 15  Work Location                  6362 non-null   object \n",
      " 16  Division/Work Unit             6362 non-null   object \n",
      " 17  Job Description                6362 non-null   object \n",
      " 18  Minimum Qual Requirements      6324 non-null   object \n",
      " 19  Preferred Skills               5345 non-null   object \n",
      " 20  Additional Information         4971 non-null   object \n",
      " 21  To Apply                       6362 non-null   object \n",
      " 22  Hours/Shift                    2549 non-null   object \n",
      " 23  Work Location 1                3163 non-null   object \n",
      " 24  Recruitment Contact            0 non-null      float64\n",
      " 25  Residency Requirement          6362 non-null   object \n",
      " 26  Posting Date                   6362 non-null   object \n",
      " 27  Post Until                     2052 non-null   object \n",
      " 28  Posting Updated                6362 non-null   object \n",
      " 29  Process Date                   6362 non-null   object \n",
      "dtypes: float64(3), int64(2), object(25)\n",
      "memory usage: 1.5+ MB\n"
     ]
    }
   ],
   "source": [
    "df.info()"
   ]
  },
  {
   "cell_type": "code",
   "execution_count": 4,
   "id": "d2bc07df-2347-4782-be77-e40f42d9fce8",
   "metadata": {},
   "outputs": [
    {
     "data": {
      "text/html": [
       "<div>\n",
       "<style scoped>\n",
       "    .dataframe tbody tr th:only-of-type {\n",
       "        vertical-align: middle;\n",
       "    }\n",
       "\n",
       "    .dataframe tbody tr th {\n",
       "        vertical-align: top;\n",
       "    }\n",
       "\n",
       "    .dataframe thead th {\n",
       "        text-align: right;\n",
       "    }\n",
       "</style>\n",
       "<table border=\"1\" class=\"dataframe\">\n",
       "  <thead>\n",
       "    <tr style=\"text-align: right;\">\n",
       "      <th></th>\n",
       "      <th>Job ID</th>\n",
       "      <th>Agency</th>\n",
       "      <th>Posting Type</th>\n",
       "      <th># Of Positions</th>\n",
       "      <th>Business Title</th>\n",
       "      <th>Civil Service Title</th>\n",
       "      <th>Title Classification</th>\n",
       "      <th>Title Code No</th>\n",
       "      <th>Level</th>\n",
       "      <th>Job Category</th>\n",
       "      <th>...</th>\n",
       "      <th>Additional Information</th>\n",
       "      <th>To Apply</th>\n",
       "      <th>Hours/Shift</th>\n",
       "      <th>Work Location 1</th>\n",
       "      <th>Recruitment Contact</th>\n",
       "      <th>Residency Requirement</th>\n",
       "      <th>Posting Date</th>\n",
       "      <th>Post Until</th>\n",
       "      <th>Posting Updated</th>\n",
       "      <th>Process Date</th>\n",
       "    </tr>\n",
       "  </thead>\n",
       "  <tbody>\n",
       "    <tr>\n",
       "      <th>0</th>\n",
       "      <td>585084</td>\n",
       "      <td>DEPT OF HEALTH/MENTAL HYGIENE</td>\n",
       "      <td>Internal</td>\n",
       "      <td>1</td>\n",
       "      <td>Deputy EEO Officer (Agency Attorney)</td>\n",
       "      <td>AGENCY ATTORNEY</td>\n",
       "      <td>Non-Competitive-5</td>\n",
       "      <td>30087</td>\n",
       "      <td>03</td>\n",
       "      <td>Health Legal Affairs</td>\n",
       "      <td>...</td>\n",
       "      <td>SPECIAL NOTE 1.\\tSelected candidate will be re...</td>\n",
       "      <td>To Apply: Please submit resume and cover lette...</td>\n",
       "      <td>NaN</td>\n",
       "      <td>NaN</td>\n",
       "      <td>NaN</td>\n",
       "      <td>New York City residency is generally required ...</td>\n",
       "      <td>07/12/2023</td>\n",
       "      <td>NaN</td>\n",
       "      <td>07/12/2023</td>\n",
       "      <td>08/01/2023</td>\n",
       "    </tr>\n",
       "    <tr>\n",
       "      <th>1</th>\n",
       "      <td>577063</td>\n",
       "      <td>DEPT OF HEALTH/MENTAL HYGIENE</td>\n",
       "      <td>External</td>\n",
       "      <td>5</td>\n",
       "      <td>Institutional Aide (per diem)</td>\n",
       "      <td>INSTITUTIONAL AIDE</td>\n",
       "      <td>Non-Competitive-5</td>\n",
       "      <td>81803</td>\n",
       "      <td>00</td>\n",
       "      <td>Building Operations &amp; Maintenance</td>\n",
       "      <td>...</td>\n",
       "      <td>SPECIAL NOTE 1.\\tSelected candidates will be r...</td>\n",
       "      <td>TO APPLY, PLEASE SUBMIT RESUME AND COVER LETTE...</td>\n",
       "      <td>NaN</td>\n",
       "      <td>NaN</td>\n",
       "      <td>NaN</td>\n",
       "      <td>New York City residency is generally required ...</td>\n",
       "      <td>03/10/2023</td>\n",
       "      <td>NaN</td>\n",
       "      <td>05/04/2023</td>\n",
       "      <td>08/01/2023</td>\n",
       "    </tr>\n",
       "    <tr>\n",
       "      <th>2</th>\n",
       "      <td>540287</td>\n",
       "      <td>DEPT OF ENVIRONMENT PROTECTION</td>\n",
       "      <td>External</td>\n",
       "      <td>1</td>\n",
       "      <td>Machinist</td>\n",
       "      <td>MACHINIST</td>\n",
       "      <td>Competitive-1</td>\n",
       "      <td>92610</td>\n",
       "      <td>00</td>\n",
       "      <td>Building Operations &amp; Maintenance</td>\n",
       "      <td>...</td>\n",
       "      <td>Appointments are subject to OMB approval.  For...</td>\n",
       "      <td>Click the âApply Nowâ button</td>\n",
       "      <td>NaN</td>\n",
       "      <td>NaN</td>\n",
       "      <td>NaN</td>\n",
       "      <td>New York City residency is generally required ...</td>\n",
       "      <td>07/16/2022</td>\n",
       "      <td>NaN</td>\n",
       "      <td>07/16/2022</td>\n",
       "      <td>08/01/2023</td>\n",
       "    </tr>\n",
       "    <tr>\n",
       "      <th>3</th>\n",
       "      <td>573619</td>\n",
       "      <td>DEPT OF ENVIRONMENT PROTECTION</td>\n",
       "      <td>External</td>\n",
       "      <td>2</td>\n",
       "      <td>Policy Analyst</td>\n",
       "      <td>STRATEGIC INITIATIVE SPECIALIS</td>\n",
       "      <td>Non-Competitive-5</td>\n",
       "      <td>50940</td>\n",
       "      <td>00</td>\n",
       "      <td>Policy, Research &amp; Analysis</td>\n",
       "      <td>...</td>\n",
       "      <td>Driver License Requirement: At the time of app...</td>\n",
       "      <td>Click on âApply Nowâ and submit a resume a...</td>\n",
       "      <td>35 hours/week</td>\n",
       "      <td>59-17 Junction Blvd Corona Ny</td>\n",
       "      <td>NaN</td>\n",
       "      <td>New York City residency is generally required ...</td>\n",
       "      <td>02/15/2023</td>\n",
       "      <td>NaN</td>\n",
       "      <td>02/15/2023</td>\n",
       "      <td>08/01/2023</td>\n",
       "    </tr>\n",
       "    <tr>\n",
       "      <th>4</th>\n",
       "      <td>589409</td>\n",
       "      <td>OFF OF PAYROLL ADMINISTRATION</td>\n",
       "      <td>Internal</td>\n",
       "      <td>2</td>\n",
       "      <td>Help Desk Level 1 Representative</td>\n",
       "      <td>CLERICAL ASSOCIATE</td>\n",
       "      <td>Competitive-1</td>\n",
       "      <td>10251</td>\n",
       "      <td>02</td>\n",
       "      <td>Technology, Data &amp; Innovation Policy, Research...</td>\n",
       "      <td>...</td>\n",
       "      <td>#O-143 &amp; O-154</td>\n",
       "      <td>Current NYC employees may apply to Job ID: 589...</td>\n",
       "      <td>35 Hours/Day Shift</td>\n",
       "      <td>5 Manhattan West</td>\n",
       "      <td>NaN</td>\n",
       "      <td>New York City residency is generally required ...</td>\n",
       "      <td>06/06/2023</td>\n",
       "      <td>NaN</td>\n",
       "      <td>06/21/2023</td>\n",
       "      <td>08/01/2023</td>\n",
       "    </tr>\n",
       "  </tbody>\n",
       "</table>\n",
       "<p>5 rows × 30 columns</p>\n",
       "</div>"
      ],
      "text/plain": [
       "   Job ID                          Agency Posting Type  # Of Positions  \\\n",
       "0  585084   DEPT OF HEALTH/MENTAL HYGIENE     Internal               1   \n",
       "1  577063   DEPT OF HEALTH/MENTAL HYGIENE     External               5   \n",
       "2  540287  DEPT OF ENVIRONMENT PROTECTION     External               1   \n",
       "3  573619  DEPT OF ENVIRONMENT PROTECTION     External               2   \n",
       "4  589409   OFF OF PAYROLL ADMINISTRATION     Internal               2   \n",
       "\n",
       "                         Business Title             Civil Service Title  \\\n",
       "0  Deputy EEO Officer (Agency Attorney)                 AGENCY ATTORNEY   \n",
       "1         Institutional Aide (per diem)              INSTITUTIONAL AIDE   \n",
       "2                             Machinist                       MACHINIST   \n",
       "3                        Policy Analyst  STRATEGIC INITIATIVE SPECIALIS   \n",
       "4      Help Desk Level 1 Representative              CLERICAL ASSOCIATE   \n",
       "\n",
       "  Title Classification Title Code No Level  \\\n",
       "0    Non-Competitive-5         30087    03   \n",
       "1    Non-Competitive-5         81803    00   \n",
       "2        Competitive-1         92610    00   \n",
       "3    Non-Competitive-5         50940    00   \n",
       "4        Competitive-1         10251    02   \n",
       "\n",
       "                                        Job Category  ...  \\\n",
       "0                               Health Legal Affairs  ...   \n",
       "1                  Building Operations & Maintenance  ...   \n",
       "2                  Building Operations & Maintenance  ...   \n",
       "3                        Policy, Research & Analysis  ...   \n",
       "4  Technology, Data & Innovation Policy, Research...  ...   \n",
       "\n",
       "                              Additional Information  \\\n",
       "0  SPECIAL NOTE 1.\\tSelected candidate will be re...   \n",
       "1  SPECIAL NOTE 1.\\tSelected candidates will be r...   \n",
       "2  Appointments are subject to OMB approval.  For...   \n",
       "3  Driver License Requirement: At the time of app...   \n",
       "4                                     #O-143 & O-154   \n",
       "\n",
       "                                            To Apply         Hours/Shift  \\\n",
       "0  To Apply: Please submit resume and cover lette...                 NaN   \n",
       "1  TO APPLY, PLEASE SUBMIT RESUME AND COVER LETTE...                 NaN   \n",
       "2                   Click the âApply Nowâ button                 NaN   \n",
       "3  Click on âApply Nowâ and submit a resume a...       35 hours/week   \n",
       "4  Current NYC employees may apply to Job ID: 589...  35 Hours/Day Shift   \n",
       "\n",
       "                 Work Location 1 Recruitment Contact  \\\n",
       "0                            NaN                 NaN   \n",
       "1                            NaN                 NaN   \n",
       "2                            NaN                 NaN   \n",
       "3  59-17 Junction Blvd Corona Ny                 NaN   \n",
       "4               5 Manhattan West                 NaN   \n",
       "\n",
       "                               Residency Requirement Posting Date Post Until  \\\n",
       "0  New York City residency is generally required ...   07/12/2023        NaN   \n",
       "1  New York City residency is generally required ...   03/10/2023        NaN   \n",
       "2  New York City residency is generally required ...   07/16/2022        NaN   \n",
       "3  New York City residency is generally required ...   02/15/2023        NaN   \n",
       "4  New York City residency is generally required ...   06/06/2023        NaN   \n",
       "\n",
       "  Posting Updated Process Date  \n",
       "0      07/12/2023   08/01/2023  \n",
       "1      05/04/2023   08/01/2023  \n",
       "2      07/16/2022   08/01/2023  \n",
       "3      02/15/2023   08/01/2023  \n",
       "4      06/21/2023   08/01/2023  \n",
       "\n",
       "[5 rows x 30 columns]"
      ]
     },
     "execution_count": 4,
     "metadata": {},
     "output_type": "execute_result"
    }
   ],
   "source": [
    "df.head()"
   ]
  },
  {
   "cell_type": "code",
   "execution_count": 5,
   "id": "73783214-6343-49f7-843a-e73d8e302262",
   "metadata": {},
   "outputs": [
    {
     "data": {
      "text/html": [
       "<div>\n",
       "<style scoped>\n",
       "    .dataframe tbody tr th:only-of-type {\n",
       "        vertical-align: middle;\n",
       "    }\n",
       "\n",
       "    .dataframe tbody tr th {\n",
       "        vertical-align: top;\n",
       "    }\n",
       "\n",
       "    .dataframe thead th {\n",
       "        text-align: right;\n",
       "    }\n",
       "</style>\n",
       "<table border=\"1\" class=\"dataframe\">\n",
       "  <thead>\n",
       "    <tr style=\"text-align: right;\">\n",
       "      <th></th>\n",
       "      <th>Job ID</th>\n",
       "      <th># Of Positions</th>\n",
       "      <th>Salary Range From</th>\n",
       "      <th>Salary Range To</th>\n",
       "      <th>Recruitment Contact</th>\n",
       "    </tr>\n",
       "  </thead>\n",
       "  <tbody>\n",
       "    <tr>\n",
       "      <th>count</th>\n",
       "      <td>6362.000000</td>\n",
       "      <td>6362.000000</td>\n",
       "      <td>6362.000000</td>\n",
       "      <td>6362.000000</td>\n",
       "      <td>0.0</td>\n",
       "    </tr>\n",
       "    <tr>\n",
       "      <th>mean</th>\n",
       "      <td>575095.083622</td>\n",
       "      <td>2.417322</td>\n",
       "      <td>61685.868704</td>\n",
       "      <td>85714.222621</td>\n",
       "      <td>NaN</td>\n",
       "    </tr>\n",
       "    <tr>\n",
       "      <th>std</th>\n",
       "      <td>21232.953278</td>\n",
       "      <td>8.991682</td>\n",
       "      <td>30822.616545</td>\n",
       "      <td>45143.110546</td>\n",
       "      <td>NaN</td>\n",
       "    </tr>\n",
       "    <tr>\n",
       "      <th>min</th>\n",
       "      <td>468473.000000</td>\n",
       "      <td>1.000000</td>\n",
       "      <td>0.000000</td>\n",
       "      <td>15.450000</td>\n",
       "      <td>NaN</td>\n",
       "    </tr>\n",
       "    <tr>\n",
       "      <th>25%</th>\n",
       "      <td>568104.500000</td>\n",
       "      <td>1.000000</td>\n",
       "      <td>49033.000000</td>\n",
       "      <td>61438.000000</td>\n",
       "      <td>NaN</td>\n",
       "    </tr>\n",
       "    <tr>\n",
       "      <th>50%</th>\n",
       "      <td>582919.000000</td>\n",
       "      <td>1.000000</td>\n",
       "      <td>60000.000000</td>\n",
       "      <td>82504.500000</td>\n",
       "      <td>NaN</td>\n",
       "    </tr>\n",
       "    <tr>\n",
       "      <th>75%</th>\n",
       "      <td>590094.000000</td>\n",
       "      <td>1.000000</td>\n",
       "      <td>75504.000000</td>\n",
       "      <td>109409.000000</td>\n",
       "      <td>NaN</td>\n",
       "    </tr>\n",
       "    <tr>\n",
       "      <th>max</th>\n",
       "      <td>595861.000000</td>\n",
       "      <td>250.000000</td>\n",
       "      <td>231796.000000</td>\n",
       "      <td>252165.000000</td>\n",
       "      <td>NaN</td>\n",
       "    </tr>\n",
       "  </tbody>\n",
       "</table>\n",
       "</div>"
      ],
      "text/plain": [
       "              Job ID  # Of Positions  Salary Range From  Salary Range To  \\\n",
       "count    6362.000000     6362.000000        6362.000000      6362.000000   \n",
       "mean   575095.083622        2.417322       61685.868704     85714.222621   \n",
       "std     21232.953278        8.991682       30822.616545     45143.110546   \n",
       "min    468473.000000        1.000000           0.000000        15.450000   \n",
       "25%    568104.500000        1.000000       49033.000000     61438.000000   \n",
       "50%    582919.000000        1.000000       60000.000000     82504.500000   \n",
       "75%    590094.000000        1.000000       75504.000000    109409.000000   \n",
       "max    595861.000000      250.000000      231796.000000    252165.000000   \n",
       "\n",
       "       Recruitment Contact  \n",
       "count                  0.0  \n",
       "mean                   NaN  \n",
       "std                    NaN  \n",
       "min                    NaN  \n",
       "25%                    NaN  \n",
       "50%                    NaN  \n",
       "75%                    NaN  \n",
       "max                    NaN  "
      ]
     },
     "execution_count": 5,
     "metadata": {},
     "output_type": "execute_result"
    }
   ],
   "source": [
    "df.describe()"
   ]
  },
  {
   "cell_type": "code",
   "execution_count": 6,
   "id": "7552fdd7-ca1e-4bee-8158-de8d5fb01054",
   "metadata": {},
   "outputs": [
    {
     "data": {
      "text/plain": [
       "Job ID                              0\n",
       "Agency                              0\n",
       "Posting Type                        0\n",
       "# Of Positions                      0\n",
       "Business Title                      0\n",
       "Civil Service Title                 0\n",
       "Title Classification                0\n",
       "Title Code No                       0\n",
       "Level                               0\n",
       "Job Category                        0\n",
       "Full-Time/Part-Time indicator     244\n",
       "Career Level                        0\n",
       "Salary Range From                   0\n",
       "Salary Range To                     0\n",
       "Salary Frequency                    0\n",
       "Work Location                       0\n",
       "Division/Work Unit                  0\n",
       "Job Description                     0\n",
       "Minimum Qual Requirements          38\n",
       "Preferred Skills                 1017\n",
       "Additional Information           1391\n",
       "To Apply                            0\n",
       "Hours/Shift                      3813\n",
       "Work Location 1                  3199\n",
       "Recruitment Contact              6362\n",
       "Residency Requirement               0\n",
       "Posting Date                        0\n",
       "Post Until                       4310\n",
       "Posting Updated                     0\n",
       "Process Date                        0\n",
       "dtype: int64"
      ]
     },
     "execution_count": 6,
     "metadata": {},
     "output_type": "execute_result"
    }
   ],
   "source": [
    "df.isna().sum()"
   ]
  },
  {
   "cell_type": "code",
   "execution_count": 7,
   "id": "89c7bf6f-6871-48d8-bb9b-a5a8cb10ce49",
   "metadata": {},
   "outputs": [
    {
     "data": {
      "text/plain": [
       "112"
      ]
     },
     "execution_count": 7,
     "metadata": {},
     "output_type": "execute_result"
    }
   ],
   "source": [
    "duplicates = df.duplicated()\n",
    "duplicates.sum()"
   ]
  },
  {
   "cell_type": "code",
   "execution_count": 8,
   "id": "fc317fec-84f0-4265-8575-8306f92c4959",
   "metadata": {},
   "outputs": [
    {
     "data": {
      "text/plain": [
       "Index(['Job ID', 'Agency', 'Posting Type', '# Of Positions', 'Business Title',\n",
       "       'Civil Service Title', 'Title Classification', 'Title Code No', 'Level',\n",
       "       'Job Category', 'Full-Time/Part-Time indicator', 'Career Level',\n",
       "       'Salary Range From', 'Salary Range To', 'Salary Frequency',\n",
       "       'Work Location', 'Division/Work Unit', 'Job Description',\n",
       "       'Minimum Qual Requirements', 'Preferred Skills',\n",
       "       'Additional Information', 'To Apply', 'Hours/Shift', 'Work Location 1',\n",
       "       'Recruitment Contact', 'Residency Requirement', 'Posting Date',\n",
       "       'Post Until', 'Posting Updated', 'Process Date'],\n",
       "      dtype='object')"
      ]
     },
     "execution_count": 8,
     "metadata": {},
     "output_type": "execute_result"
    }
   ],
   "source": [
    "df.columns"
   ]
  },
  {
   "cell_type": "code",
   "execution_count": 9,
   "id": "39d8dd51-ccdc-4265-8f25-64a0aa487a1e",
   "metadata": {},
   "outputs": [
    {
     "data": {
      "text/plain": [
       "<matplotlib.collections.PathCollection at 0x200e2c96980>"
      ]
     },
     "execution_count": 9,
     "metadata": {},
     "output_type": "execute_result"
    },
    {
     "data": {
      "image/png": "[encoded data removed]",
      "text/plain": [
       "<Figure size 640x480 with 1 Axes>"
      ]
     },
     "metadata": {},
     "output_type": "display_data"
    }
   ],
   "source": [
    "# Data visualization\n",
    "fig, ax = plt.subplots()\n",
    "ax.scatter(df[\"Business Title\"][:20], df[\"Job Category\"][:20])"
   ]
  },
  {
   "cell_type": "code",
   "execution_count": 10,
   "id": "c1408225-62ea-43a9-b710-8bfb3be6e5ab",
   "metadata": {},
   "outputs": [
    {
     "data": {
      "text/plain": [
       "0                                   Health Legal Affairs\n",
       "1                      Building Operations & Maintenance\n",
       "2                      Building Operations & Maintenance\n",
       "3                            Policy, Research & Analysis\n",
       "4      Technology, Data & Innovation Policy, Research...\n",
       "                             ...                        \n",
       "995                                        Legal Affairs\n",
       "996                Engineering, Architecture, & Planning\n",
       "997            Constituent Services & Community Programs\n",
       "998           Communications & Intergovernmental Affairs\n",
       "999                     Administration & Human Resources\n",
       "Name: Job Category, Length: 1000, dtype: object"
      ]
     },
     "execution_count": 10,
     "metadata": {},
     "output_type": "execute_result"
    }
   ],
   "source": [
    "df[\"Job Category\"][:1000]"
   ]
  },
  {
   "cell_type": "markdown",
   "id": "0dd15ee5-adb2-419b-a485-b956288d5a5d",
   "metadata": {},
   "source": [
    "# Data cleaning"
   ]
  },
  {
   "cell_type": "code",
   "execution_count": 11,
   "id": "9708f98b-5dd3-4736-b47b-9233628d8efb",
   "metadata": {},
   "outputs": [],
   "source": [
    "# Removing duplicate rows\n",
    "cleaned_df = df.drop_duplicates()"
   ]
  },
  {
   "cell_type": "code",
   "execution_count": 19,
   "id": "56345100-58f7-42f4-86c1-cba06992ef51",
   "metadata": {},
   "outputs": [
    {
     "data": {
      "text/plain": [
       "0"
      ]
     },
     "execution_count": 19,
     "metadata": {},
     "output_type": "execute_result"
    }
   ],
   "source": [
    "duplicates = cleaned_df.duplicated()\n",
    "duplicates.sum()"
   ]
  },
  {
   "cell_type": "code",
   "execution_count": 12,
   "id": "d94e4e83-e519-4728-affe-2ade45e6a49a",
   "metadata": {},
   "outputs": [],
   "source": [
    "# Saving cleaned df to a new CSV file\n",
    "cleaned_df.to_csv('../Data/cleaned_df.csv', index=False)"
   ]
  },
  {
   "cell_type": "code",
   "execution_count": 13,
   "id": "0096f2ad-ae2d-4e74-bc33-40378275c853",
   "metadata": {},
   "outputs": [
    {
     "data": {
      "text/plain": [
       "<Axes: ylabel='Frequency'>"
      ]
     },
     "execution_count": 13,
     "metadata": {},
     "output_type": "execute_result"
    },
    {
     "data": {
      "image/png": "[encoded data removed]",
      "text/plain": [
       "<Figure size 640x480 with 1 Axes>"
      ]
     },
     "metadata": {},
     "output_type": "display_data"
    }
   ],
   "source": [
    "cleaned_df.plot.hist()"
   ]
  },
  {
   "cell_type": "code",
   "execution_count": null,
   "id": "ace38b5f-4c4b-4212-aaaf-54a2c16cca27",
   "metadata": {},
   "outputs": [],
   "source": []
  }
 ],
 "metadata": {
  "kernelspec": {
   "display_name": "Python 3 (ipykernel)",
   "language": "python",
   "name": "python3"
  },
  "language_info": {
   "codemirror_mode": {
    "name": "ipython",
    "version": 3
   },
   "file_extension": ".py",
   "mimetype": "text/x-python",
   "name": "python",
   "nbconvert_exporter": "python",
   "pygments_lexer": "ipython3",
   "version": "3.10.12"
  }
 },
 "nbformat": 4,
 "nbformat_minor": 5
}
